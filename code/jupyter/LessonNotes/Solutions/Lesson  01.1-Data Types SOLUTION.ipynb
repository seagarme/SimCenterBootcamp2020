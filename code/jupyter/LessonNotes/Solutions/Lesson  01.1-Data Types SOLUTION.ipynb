{
 "cells": [
  {
   "cell_type": "markdown",
   "metadata": {},
   "source": [
    "# A Python Quick Start Tutorial\n",
    "# Lesson \\#1 : Data Types - <font color=red>SOLUTION</font>\n",
    "\n",
    "## by Peter Mackenzie-Helnwein\n",
    "University of Washington, Seattle, WA\n",
    "\n",
    "pmackenz@uw.edu          \n",
    "https://www.ce.washington.edu/facultyfinder/peter-mackenzie-helnwein"
   ]
  },
  {
   "cell_type": "markdown",
   "metadata": {},
   "source": [
    "## Resources\n",
    "\n",
    "   1. Python Docs: https://docs.python.org/3/\n",
    "   \n",
    "   1. Python Tutorial (comprehensive): https://docs.python.org/3/tutorial/index.html\n",
    "   \n",
    "   1. Python Library Reference (the nitty-gritty details): https://docs.python.org/3/library/index.html\n",
    "   \n",
    "   1. Everything else: http://google.com\n",
    "   "
   ]
  },
  {
   "cell_type": "markdown",
   "metadata": {},
   "source": [
    "## Discussing questions from the self-study assignment\n",
    "\n",
    "This section is to discuss your questions\n"
   ]
  },
  {
   "cell_type": "markdown",
   "metadata": {},
   "source": [
    "### Exercise 1\n",
    "\n",
    "**Theory**:\n",
    "Stress transformation\n",
    "\n",
    "$$\n",
    "\\begin{aligned}\n",
    "\\sigma_{x}' &= \\sigma_{x} \\cos^2\\theta + \\sigma_{y} \\sin^2\\theta + 2\\tau_{xy} \\sin\\theta \\cos\\theta \\\\\n",
    "\\sigma_{y}' &= \\sigma_{x} \\sin^2\\theta + \\sigma_{y} \\cos^2\\theta - 2\\tau_{xy} \\sin\\theta \\cos\\theta \\\\\n",
    "\\tau_{xy}'  &= (\\sigma_{y} - \\sigma_{x}) \\sin\\theta \\cos\\theta + \\tau_{xy} (\\cos^2\\theta - \\sin^2\\theta) \\\\\n",
    "\\end{aligned}\n",
    "$$\n",
    "\n",
    "**Given**:\n",
    "Stress state:\n",
    "\n",
    "$$\n",
    "\\sigma_{x} = 12~ksi~,\n",
    "~~~\n",
    "\\sigma_{y} = -5.5~ksi~,\n",
    "~~~\n",
    "\\tau_{xy} = 3.5~ksi \n",
    "$$\n",
    "\n",
    "**Find**:\n",
    "Components of stress in a rotated coordinate system for $\\theta=25^\\circ$."
   ]
  },
  {
   "cell_type": "code",
<<<<<<< HEAD
   "execution_count": 1,
=======
   "execution_count": 5,
>>>>>>> upstream/master
   "metadata": {},
   "outputs": [
    {
     "data": {
      "text/plain": [
       "12.25"
      ]
     },
<<<<<<< HEAD
     "execution_count": 1,
=======
     "execution_count": 5,
>>>>>>> upstream/master
     "metadata": {},
     "output_type": "execute_result"
    }
   ],
   "source": [
    "import math\n",
    "\n",
    "math.sin(math.pi/2)\n",
    "\n",
    "3.5**2"
   ]
  },
  {
   "cell_type": "code",
<<<<<<< HEAD
   "execution_count": 8,
   "metadata": {},
   "outputs": [
    {
     "data": {
      "text/plain": [
       "12.25"
      ]
     },
     "execution_count": 8,
     "metadata": {},
     "output_type": "execute_result"
    }
   ],
   "source": []
  },
  {
   "cell_type": "code",
   "execution_count": 4,
=======
   "execution_count": 6,
>>>>>>> upstream/master
   "metadata": {
    "tags": [
     "hide-input"
    ]
   },
   "outputs": [],
   "source": [
    "from math import sin,cos,radians\n",
    "\n",
    "sigma_x = 12.0\n",
    "sigma_y = -5.5\n",
    "tau_xy  =  3.5\n",
    "\n",
    "theta = radians(25.)\n",
    "\n",
    "sx  = sigma_x * cos(theta)**2 + sigma_y * sin(theta)**2 + 2*tau_xy * sin(theta) * cos(theta)\n",
    "sy  = sigma_x * sin(theta)**2 + sigma_y * cos(theta)**2 - 2*tau_xy * sin(theta) * cos(theta)\n",
    "txy = (sigma_y - sigma_x) * sin(theta) * cos(theta) + tau_xy * (cos(theta)**2 - sin(theta)**2) "
   ]
  },
  {
   "cell_type": "code",
   "execution_count": 7,
   "metadata": {
    "tags": [
     "toggle"
    ]
   },
   "outputs": [
    {
     "name": "stdout",
     "output_type": "stream",
     "text": [
      "sigma_x  =  12.0000 ksi\n",
      "sigma_y  =  -5.5000 ksi\n",
      "tau_xy   =   3.5000 ksi\n",
      "sigma_x' =  11.5555 ksi\n",
      "sigma_y' =  -5.0555 ksi\n",
      "tau_xy'  =  -4.4531 ksi\n"
     ]
    }
   ],
   "source": [
    "print(\"sigma_x  = {:8.4f} ksi\".format(sigma_x))\n",
    "print(\"sigma_y  = {:8.4f} ksi\".format(sigma_y))\n",
    "print(\"tau_xy   = {:8.4f} ksi\".format(tau_xy))\n",
    "\n",
    "print(\"sigma_x' = {:8.4f} ksi\".format(sx))\n",
    "print(\"sigma_y' = {:8.4f} ksi\".format(sy))\n",
    "print(\"tau_xy'  = {:8.4f} ksi\".format(txy))"
   ]
  },
  {
   "cell_type": "markdown",
   "metadata": {},
   "source": [
    "### Exercise 2\n",
    "\n",
    "Convert the calculation from exercise 1 to a function"
   ]
  },
  {
   "cell_type": "code",
   "execution_count": 8,
   "metadata": {},
   "outputs": [],
   "source": [
    "def stressTransform(sigx, sigy, tauxy, theta):\n",
    "\n",
    "    th = radians(theta)\n",
    "\n",
    "    sx  = sigx * cos(th)**2 + sigy * sin(th)**2 + 2*tauxy * sin(th) * cos(th)\n",
    "    sy  = sigx * sin(th)**2 + sigy * cos(th)**2 - 2*tauxy * sin(th) * cos(th)\n",
    "    txy = (sigy - sigx) * sin(th) * cos(th) + tauxy * (cos(th)**2 - sin(th)**2) \n",
    "    \n",
    "    return (sx,sy,txy)\n"
   ]
  },
  {
   "cell_type": "markdown",
   "metadata": {},
   "source": [
    "Test your function for \n",
    "\n",
    "* $\\theta=0$ (what should the result look like?)\n",
    "* $\\theta=25^\\circ$\n",
    "* $\\theta=180^\\circ$"
   ]
  },
  {
   "cell_type": "code",
   "execution_count": 9,
   "metadata": {},
   "outputs": [
    {
     "data": {
      "text/plain": [
       "(12.0, -5.5, 3.5)"
      ]
     },
     "execution_count": 9,
     "metadata": {},
     "output_type": "execute_result"
    }
   ],
   "source": [
    "stressTransform(sigma_x, sigma_y, tau_xy, 0)"
   ]
  },
  {
   "cell_type": "code",
   "execution_count": 10,
   "metadata": {},
   "outputs": [
    {
     "data": {
      "text/plain": [
       "(11.555547135673642, -5.055547135673642, -4.453132243388171)"
      ]
     },
     "execution_count": 10,
     "metadata": {},
     "output_type": "execute_result"
    }
   ],
   "source": [
    "stressTransform(sigma_x, sigma_y, tau_xy, 25)"
   ]
  },
  {
   "cell_type": "code",
   "execution_count": 11,
   "metadata": {},
   "outputs": [
    {
     "data": {
      "text/plain": [
       "(12.0, -5.499999999999999, 3.500000000000002)"
      ]
     },
     "execution_count": 11,
     "metadata": {},
     "output_type": "execute_result"
    }
   ],
   "source": [
    "stressTransform(sigma_x, sigma_y, tau_xy, 180)"
   ]
  },
  {
   "cell_type": "code",
   "execution_count": 12,
   "metadata": {},
   "outputs": [],
   "source": [
    "stress=stressTransform(sigma_x, sigma_y, tau_xy, 25)"
   ]
  },
  {
   "cell_type": "code",
   "execution_count": 13,
   "metadata": {},
   "outputs": [
    {
     "name": "stdout",
     "output_type": "stream",
     "text": [
      "(11.555547135673642, -5.055547135673642, -4.453132243388171)\n"
     ]
    }
   ],
   "source": [
    "print(stress)"
   ]
  },
  {
   "cell_type": "code",
   "execution_count": 14,
   "metadata": {},
   "outputs": [
    {
     "data": {
      "text/plain": [
       "11.555547135673642"
      ]
     },
     "execution_count": 14,
     "metadata": {},
     "output_type": "execute_result"
    }
   ],
   "source": [
    "stress[0]"
   ]
  },
  {
   "cell_type": "code",
   "execution_count": 15,
   "metadata": {},
   "outputs": [],
   "source": [
    "(a,b,c)=stressTransform(sigma_x, sigma_y, tau_xy, 25)"
   ]
  },
  {
   "cell_type": "code",
   "execution_count": 16,
   "metadata": {},
   "outputs": [
    {
     "name": "stdout",
     "output_type": "stream",
     "text": [
      "11.555547135673642\n",
      "-5.055547135673642\n",
      "-4.453132243388171\n"
     ]
    }
   ],
   "source": [
    "print(a)\n",
    "print(b)\n",
    "print(c)"
   ]
  },
  {
   "cell_type": "code",
   "execution_count": 28,
   "metadata": {},
   "outputs": [
    {
     "name": "stdout",
     "output_type": "stream",
     "text": [
      "sig_x =  11.5555 ksi\n",
      "sig_y =  -5.0555 ksi\n",
      "tau   =  -4.4531 ksi\n"
     ]
    }
   ],
   "source": [
    "template=\"sig_x = {:8.4f} ksi\\nsig_y = {:8.4f} ksi\\ntau   = {:8.4f} ksi\"\n",
    "print(template.format(*stress))"
   ]
  },
  {
   "cell_type": "markdown",
   "metadata": {},
   "source": [
    "### Exercise 3\n",
    "\n",
    "Let's use this function to study stress transformation.  In order to do so,\n",
    "\n",
    "1. Create a list of 81 evenly spaced $\\theta$-values from $0^\\circ$ to $180^\\circ$.\n",
    "2. Compute the transformed stress for each of these values and collect the results in three lists: \n",
    "\n",
    "       sigmax_values = ...\n",
    "       sigmay_values = ...\n",
    "       tauxy_values = ...\n",
    "\n",
    "3. print a nice table with 4 columns: $\\theta$, $\\sigma_x'$, $\\sigma_y'$, $\\tau_{xy}'$"
   ]
  },
  {
   "cell_type": "code",
   "execution_count": 31,
   "metadata": {},
   "outputs": [],
   "source": [
    "sigmax_values = []\n",
    "sigmay_values = []\n",
    "tauxy_values = []\n"
   ]
  },
  {
   "cell_type": "code",
<<<<<<< HEAD
   "execution_count": 12,
=======
   "execution_count": 37,
   "metadata": {},
   "outputs": [
    {
     "name": "stdout",
     "output_type": "stream",
     "text": [
      "0.0\n",
      "2.25\n",
      "4.5\n",
      "6.75\n",
      "9.0\n",
      "11.25\n",
      "13.5\n",
      "15.75\n",
      "18.0\n",
      "20.25\n",
      "22.5\n",
      "24.75\n",
      "27.0\n",
      "29.25\n",
      "31.5\n",
      "33.75\n",
      "36.0\n",
      "38.25\n",
      "40.5\n",
      "42.75\n",
      "45.0\n",
      "47.25\n",
      "49.5\n",
      "51.75\n",
      "54.0\n",
      "56.25\n",
      "58.5\n",
      "60.75\n",
      "63.0\n",
      "65.25\n",
      "67.5\n",
      "69.75\n",
      "72.0\n",
      "74.25\n",
      "76.5\n",
      "78.75\n",
      "81.0\n",
      "83.25\n",
      "85.5\n",
      "87.75\n",
      "90.0\n",
      "92.25\n",
      "94.5\n",
      "96.75\n",
      "99.0\n",
      "101.25\n",
      "103.5\n",
      "105.75\n",
      "108.0\n",
      "110.25\n",
      "112.5\n",
      "114.75\n",
      "117.0\n",
      "119.25\n",
      "121.5\n",
      "123.75\n",
      "126.0\n",
      "128.25\n",
      "130.5\n",
      "132.75\n",
      "135.0\n",
      "137.25\n",
      "139.5\n",
      "141.75\n",
      "144.0\n",
      "146.25\n",
      "148.5\n",
      "150.75\n",
      "153.0\n",
      "155.25\n",
      "157.5\n",
      "159.75\n",
      "162.0\n",
      "164.25\n",
      "166.5\n",
      "168.75\n",
      "171.0\n",
      "173.25\n",
      "175.5\n",
      "177.75\n",
      "180.0\n"
     ]
    }
   ],
   "source": [
    "dth = 180./80.\n",
    "\n",
    "th=[0.0]\n",
    "for i in range(80):\n",
    "    th.append(th[-1]+dth)\n",
    "\n",
    "for theta in th:\n",
    "    print(theta)"
   ]
  },
  {
   "cell_type": "code",
   "execution_count": 38,
>>>>>>> upstream/master
   "metadata": {},
   "outputs": [
    {
     "name": "stdout",
     "output_type": "stream",
     "text": [
      "       theta       sigma_x       sigma_y        tau_xy \n",
      "=======================================================\n"
     ]
    },
    {
     "ename": "NameError",
     "evalue": "name 'stressTransform' is not defined",
     "output_type": "error",
     "traceback": [
      "\u001b[1;31m---------------------------------------------------------------------------\u001b[0m",
      "\u001b[1;31mNameError\u001b[0m                                 Traceback (most recent call last)",
      "\u001b[1;32m<ipython-input-12-52cdbcaefe07>\u001b[0m in \u001b[0;36m<module>\u001b[1;34m\u001b[0m\n\u001b[0;32m      8\u001b[0m \u001b[1;33m\u001b[0m\u001b[0m\n\u001b[0;32m      9\u001b[0m     \u001b[0mtheta\u001b[0m\u001b[1;33m.\u001b[0m\u001b[0mappend\u001b[0m\u001b[1;33m(\u001b[0m\u001b[0mth\u001b[0m\u001b[1;33m)\u001b[0m\u001b[1;33m\u001b[0m\u001b[1;33m\u001b[0m\u001b[0m\n\u001b[1;32m---> 10\u001b[1;33m     \u001b[1;33m(\u001b[0m\u001b[0msx\u001b[0m\u001b[1;33m,\u001b[0m\u001b[0msy\u001b[0m\u001b[1;33m,\u001b[0m\u001b[0mtau\u001b[0m\u001b[1;33m)\u001b[0m \u001b[1;33m=\u001b[0m \u001b[0mstressTransform\u001b[0m\u001b[1;33m(\u001b[0m\u001b[0msigma_x\u001b[0m\u001b[1;33m,\u001b[0m \u001b[0msigma_y\u001b[0m\u001b[1;33m,\u001b[0m \u001b[0mtau_xy\u001b[0m\u001b[1;33m,\u001b[0m \u001b[0mth\u001b[0m\u001b[1;33m)\u001b[0m\u001b[1;33m\u001b[0m\u001b[1;33m\u001b[0m\u001b[0m\n\u001b[0m\u001b[0;32m     11\u001b[0m     \u001b[0msigmax_values\u001b[0m\u001b[1;33m.\u001b[0m\u001b[0mappend\u001b[0m\u001b[1;33m(\u001b[0m\u001b[0msx\u001b[0m\u001b[1;33m)\u001b[0m\u001b[1;33m\u001b[0m\u001b[1;33m\u001b[0m\u001b[0m\n\u001b[0;32m     12\u001b[0m     \u001b[0msigmay_values\u001b[0m\u001b[1;33m.\u001b[0m\u001b[0mappend\u001b[0m\u001b[1;33m(\u001b[0m\u001b[0msy\u001b[0m\u001b[1;33m)\u001b[0m\u001b[1;33m\u001b[0m\u001b[1;33m\u001b[0m\u001b[0m\n",
      "\u001b[1;31mNameError\u001b[0m: name 'stressTransform' is not defined"
     ]
    }
   ],
   "source": [
    "theta = []\n",
    "\n",
    "print(\"       theta       sigma_x       sigma_y        tau_xy \")\n",
    "print(\"=======================================================\")\n",
    "\n",
    "for i in range(81):\n",
    "    th = i*180/80;\n",
    "    \n",
    "    theta.append(th)\n",
    "    (sx,sy,tau) = stressTransform(sigma_x, sigma_y, tau_xy, th)\n",
    "    sigmax_values.append(sx)\n",
    "    sigmay_values.append(sy)\n",
    "    tauxy_values.append(tau)\n",
    "\n",
    "for item in zip(theta, sigmax_values, sigmay_values, tauxy_values):\n",
    "    print(\"{:12.6f}, {:12.6f}, {:12.6f}, {:12.6f}\".format(*item))"
   ]
  },
  {
   "cell_type": "code",
   "execution_count": 11,
   "metadata": {},
   "outputs": [
    {
     "ename": "NameError",
     "evalue": "name 'sx' is not defined",
     "output_type": "error",
     "traceback": [
      "\u001b[1;31m---------------------------------------------------------------------------\u001b[0m",
      "\u001b[1;31mNameError\u001b[0m                                 Traceback (most recent call last)",
      "\u001b[1;32m<ipython-input-11-b78aa8010fea>\u001b[0m in \u001b[0;36m<module>\u001b[1;34m\u001b[0m\n\u001b[1;32m----> 1\u001b[1;33m \u001b[0msx\u001b[0m\u001b[1;33m\u001b[0m\u001b[1;33m\u001b[0m\u001b[0m\n\u001b[0m\u001b[0;32m      2\u001b[0m \u001b[0msigmax_values\u001b[0m\u001b[1;33m\u001b[0m\u001b[1;33m\u001b[0m\u001b[0m\n",
      "\u001b[1;31mNameError\u001b[0m: name 'sx' is not defined"
     ]
    }
   ],
   "source": [
    "sx\n",
    "sigmax_values"
   ]
  },
  {
   "cell_type": "markdown",
   "metadata": {},
   "source": [
    "### Exercise 4: Explore plotting in python\n",
    "\n",
    "For this, check out https://matplotlib.org/3.1.1/gallery/lines_bars_and_markers/simple_plot.html#sphx-glr-gallery-lines-bars-and-markers-simple-plot-py\n",
    "\n",
    "I copied the demo code below so you can modify it to plot $(\\sigma_{x}'/\\tau_{xy}')$ and  $(\\sigma_{y}'/-\\tau_{xy}')$ curves from the data collected in `sigmax_values`, `sigmay_values`, `tauxy_values`"
   ]
  },
  {
   "cell_type": "code",
   "execution_count": 14,
   "metadata": {},
   "outputs": [
    {
     "ename": "NameError",
     "evalue": "name 'sigmax_values' is not defined",
     "output_type": "error",
     "traceback": [
      "\u001b[1;31m---------------------------------------------------------------------------\u001b[0m",
      "\u001b[1;31mNameError\u001b[0m                                 Traceback (most recent call last)",
      "\u001b[1;32m<ipython-input-14-c5e479fb3bd4>\u001b[0m in \u001b[0;36m<module>\u001b[1;34m\u001b[0m\n\u001b[0;32m      6\u001b[0m \u001b[0mt\u001b[0m \u001b[1;33m=\u001b[0m \u001b[0mnp\u001b[0m\u001b[1;33m.\u001b[0m\u001b[0marange\u001b[0m\u001b[1;33m(\u001b[0m\u001b[1;36m0.0\u001b[0m\u001b[1;33m,\u001b[0m \u001b[1;36m2.0\u001b[0m\u001b[1;33m,\u001b[0m \u001b[1;36m0.01\u001b[0m\u001b[1;33m)\u001b[0m\u001b[1;33m\u001b[0m\u001b[1;33m\u001b[0m\u001b[0m\n\u001b[0;32m      7\u001b[0m \u001b[0ms\u001b[0m \u001b[1;33m=\u001b[0m \u001b[1;36m1\u001b[0m \u001b[1;33m+\u001b[0m \u001b[0mnp\u001b[0m\u001b[1;33m.\u001b[0m\u001b[0msin\u001b[0m\u001b[1;33m(\u001b[0m\u001b[1;36m2\u001b[0m \u001b[1;33m*\u001b[0m \u001b[0mnp\u001b[0m\u001b[1;33m.\u001b[0m\u001b[0mpi\u001b[0m \u001b[1;33m*\u001b[0m \u001b[0mt\u001b[0m\u001b[1;33m)\u001b[0m\u001b[1;33m\u001b[0m\u001b[1;33m\u001b[0m\u001b[0m\n\u001b[1;32m----> 8\u001b[1;33m \u001b[0msigmax_values\u001b[0m\u001b[1;33m\u001b[0m\u001b[1;33m\u001b[0m\u001b[0m\n\u001b[0m\u001b[0;32m      9\u001b[0m \u001b[0msigmay_values\u001b[0m\u001b[1;33m\u001b[0m\u001b[1;33m\u001b[0m\u001b[0m\n\u001b[0;32m     10\u001b[0m \u001b[0mtauxy_values\u001b[0m\u001b[1;33m\u001b[0m\u001b[1;33m\u001b[0m\u001b[0m\n",
      "\u001b[1;31mNameError\u001b[0m: name 'sigmax_values' is not defined"
     ]
    }
   ],
   "source": [
    "import matplotlib\n",
    "import matplotlib.pyplot as plt\n",
    "import numpy as np\n",
    "\n",
    "# Data for plotting\n",
    "t = np.arange(0.0, 2.0, 0.01)\n",
    "s = 1 + np.sin(2 * np.pi * t)\n",
    "sigmax_values \n",
    "sigmay_values \n",
    "tauxy_values \n",
    "\n",
    "\n",
    "fig, ax = plt.subplots()\n",
    "ax.plot(t, s)\n",
    "\n",
    "ax.set(xlabel='time (s)', ylabel='voltage (mV)',\n",
    "       title='About as simple as it gets, folks')\n",
    "ax.grid()\n",
    "\n",
    "fig.savefig(\"test.png\")\n",
    "plt.show()"
   ]
  },
  {
   "cell_type": "code",
   "execution_count": 27,
   "metadata": {},
   "outputs": [
    {
     "data": {
      "image/png": "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\n",
      "text/plain": [
       "<Figure size 432x288 with 1 Axes>"
      ]
     },
     "metadata": {
      "needs_background": "light"
     },
     "output_type": "display_data"
    }
   ],
   "source": [
    "import matplotlib\n",
    "import matplotlib.pyplot as plt\n",
    "import numpy as np\n",
    "\n",
    "# Data for plotting\n",
    "\n",
    "minus_tauxy_values = [ -x for x in tauxy_values ]\n",
    "\n",
    "fig, ax = plt.subplots()\n",
    "ax.plot(sigmax_values, tauxy_values)\n",
    "ax.plot(sigmay_values, minus_tauxy_values)\n",
    "\n",
    "# plot input data points\n",
    "\n",
    "ax.plot(sigmax_values[0], tauxy_values[0],'ob')\n",
    "ax.plot(sigmay_values[0], minus_tauxy_values[0],'ob')\n",
    "\n",
    "# plot construction\n",
    "constSigma = []\n",
    "constTau   = []\n",
    "constSigma.append(sigmax_values[0]),  constTau.append(0.0)\n",
    "constSigma.append(sigmax_values[0]),  constTau.append(tauxy_values[0])\n",
    "constSigma.append(sigmay_values[0]),  constTau.append(minus_tauxy_values[0])\n",
    "constSigma.append(sigmay_values[0]),  constTau.append(0.0)\n",
    "\n",
    "ax.plot(constSigma, constTau,'--b')\n",
    "\n",
    "\n",
    "ax.set_xlabel('normal stress $\\sigma$')\n",
    "ax.set_ylabel('shear stress $\\\\tau$')\n",
    "ax.set_title(\"Mohr's circle\")\n",
    "ax.grid()\n",
    "ax.set_aspect(\"equal\")\n",
    "\n",
    "# I comment writing the figure to file ... makes this quicker\n",
    "# fig.savefig(\"test.png\")\n",
    "plt.show()"
   ]
  },
  {
   "cell_type": "markdown",
   "metadata": {},
   "source": [
    "**Remark**: This was just to wet your appetite! We will talk much more about `numpy` and `matplotlib` next week."
   ]
  },
  {
   "cell_type": "markdown",
   "metadata": {},
   "source": [
    "## Exercise 5: List versus dictionary\n",
    "\n",
    "You could express the stress state as\n",
    "\n",
    "1. three independent variables - the way we did it thus far\n",
    "\n",
    "2. a list of three values: `stress = `$[\\sigma_x, \\sigma_y, \\tau_{xy}]$ and replace\n",
    "\n",
    "        sigma_x --> stress[0]\n",
    "        sigma_y --> stress[2]\n",
    "        tau_xy  --> stress[3]\n",
    "        \n",
    "3. a dictionary \n",
    "\n",
    "        stress = {'sigx': 12.0, 'sigy': -5.5, 'tau':3.50}\n",
    "        \n",
    "   and replace\n",
    "\n",
    "        sigma_x --> stress['sigx']\n",
    "        sigma_y --> stress['sigy']\n",
    "        tau_xy  --> stress['tau']\n",
    "\n",
    "**Discuss**:\n",
    "\n",
    "1. Pros and cons for coding the equations\n",
    "2. Pros and cons for coding the function(s)\n",
    "3. How woud code and function change when switching from 2D to 3D (6 components instead of 3 components)\n",
    "\n",
    "Feel free to implement an alternative form of stressTrannsform() that looks like this:"
   ]
  },
  {
   "cell_type": "code",
   "execution_count": null,
   "metadata": {},
   "outputs": [],
   "source": [
    "def stressTransform2(stress, theta):\n",
    "    # YOUR CODE\n",
    "    # stress2 is a list or dictionary, just as stress is\n",
    "    \n",
    "    th = radians(theta)\n",
    "    cth = cos(theta)\n",
    "    sth = sin(theta)\n",
    "\n",
    "    sx  = stress['sigx'] * cth**2 + stress['sigy'] * sth**2 + 2*stress['tau'] * sth * cth\n",
    "    sy  = stress['sigx'] * sth**2 + stress['sigy'] * cth**2 - 2*stress['tau'] * sth * cth\n",
    "    txy = (stress['sigy'] - stress['sigx']) * sth * cth + stress['tau'] * (cth**2 - sth**2) \n",
    "    \n",
    "    stress_out = {'sigx': sx,\n",
    "                  'sigy': sy,\n",
    "                  'tau':  txy}\n",
    "    \n",
    "    # stress_out is another dictionary containing the transformed stress\n",
    "    return stress_out\n"
   ]
  },
  {
   "cell_type": "code",
   "execution_count": 16,
   "metadata": {},
   "outputs": [
    {
     "ename": "NameError",
     "evalue": "name 'stress' is not defined",
     "output_type": "error",
     "traceback": [
      "\u001b[1;31m---------------------------------------------------------------------------\u001b[0m",
      "\u001b[1;31mNameError\u001b[0m                                 Traceback (most recent call last)",
      "\u001b[1;32m<ipython-input-16-dfd70adf3572>\u001b[0m in \u001b[0;36m<module>\u001b[1;34m\u001b[0m\n\u001b[1;32m----> 1\u001b[1;33m \u001b[0mprint\u001b[0m\u001b[1;33m(\u001b[0m\u001b[0mstress\u001b[0m\u001b[1;33m)\u001b[0m\u001b[1;33m\u001b[0m\u001b[1;33m\u001b[0m\u001b[0m\n\u001b[0m",
      "\u001b[1;31mNameError\u001b[0m: name 'stress' is not defined"
     ]
    }
   ],
   "source": [
    "print(stress)"
   ]
  },
  {
   "cell_type": "markdown",
   "metadata": {},
   "source": [
    "## Homework questions\n",
    "\n",
    "We can all learn from your questions!"
   ]
  },
  {
   "cell_type": "code",
   "execution_count": null,
   "metadata": {},
   "outputs": [],
   "source": []
  }
 ],
 "metadata": {
  "kernelspec": {
   "display_name": "Python 3",
   "language": "python",
   "name": "python3"
  },
  "language_info": {
   "codemirror_mode": {
    "name": "ipython",
    "version": 3
   },
   "file_extension": ".py",
   "mimetype": "text/x-python",
   "name": "python",
   "nbconvert_exporter": "python",
   "pygments_lexer": "ipython3",
   "version": "3.7.8"
  }
 },
 "nbformat": 4,
 "nbformat_minor": 4
}
