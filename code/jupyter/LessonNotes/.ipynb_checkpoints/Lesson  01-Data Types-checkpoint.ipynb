{
 "cells": [
  {
   "cell_type": "markdown",
   "metadata": {},
   "source": [
    "## Resources\n",
    "\n",
    "   1. Python Docs: https://docs.python.org/3/\n",
    "   \n",
    "   1. Python Tutorial (comprehensive): https://docs.python.org/3/tutorial/index.html\n",
    "   \n",
    "   1. Python Library Reference (the nitty-gritty details): https://docs.python.org/3/library/index.html\n",
    "   \n",
    "   1. Everything else: http://google.com\n",
    "   "
   ]
  },
  {
   "cell_type": "markdown",
   "metadata": {},
   "source": [
    "# A Python Quick Start Tutorial\n",
    "# Lesson \\#1: Basic data types and functions\n",
    "## by Peter Mackenzie-Helnwein\n",
    "University of Washington, Seattle, WA\n",
    "\n",
    "pmackenz@uw.edu          \n",
    "https://www.ce.washington.edu/facultyfinder/peter-mackenzie-helnwein"
   ]
  },
  {
   "cell_type": "markdown",
   "metadata": {},
   "source": [
    "## Discussing questions from the self-study assignment\n",
    "\n",
    "This section is to discuss your questions\n"
   ]
  },
  {
   "cell_type": "markdown",
   "metadata": {},
   "source": [
    "### Exercise 1\n",
    "\n",
    "**Theory**:\n",
    "Stress transformation\n",
    "\n",
    "$$\n",
    "\\begin{aligned}\n",
    "\\sigma_{x}' &= \\sigma_{x} \\cos^2\\theta + \\sigma_{y} \\sin^2\\theta + 2\\tau_{xy} \\sin\\theta \\cos\\theta \\\\\n",
    "\\sigma_{y}' &= \\sigma_{x} \\sin^2\\theta + \\sigma_{y} \\cos^2\\theta - 2\\tau_{xy} \\sin\\theta \\cos\\theta \\\\\n",
    "\\tau_{xy}'  &= (\\sigma_{y} - \\sigma_{x}) \\sin\\theta \\cos\\theta + \\tau_{xy} (\\cos^2\\theta - \\sin^2\\theta) \\\\\n",
    "\\end{aligned}\n",
    "$$\n",
    "\n",
    "**Given**:\n",
    "Stress state:\n",
    "\n",
    "$$\n",
    "\\sigma_{x} = 12~ksi~,\n",
    "~~~\n",
    "\\sigma_{y} = -5.5~ksi~,\n",
    "~~~\n",
    "\\tau_{xy} = 3.5~ksi \n",
    "$$\n",
    "\n",
    "**Find**:\n",
    "Components of stress in a rotated coordinate system for $\\theta=25^\\circ$."
   ]
  },
  {
   "cell_type": "code",
   "execution_count": 10,
   "metadata": {},
   "outputs": [],
   "source": [
    "# theta needs to be in radians\n",
    "# sin and cos are not part of phython\n",
    "from math import sin, cos, pi, radians\n",
    "\n",
    "sigma_x = 12. #ksi\n",
    "sigma_y = -5.5 #ksi\n",
    "tau_xy = 3.5 #ksi\n",
    "theta = radians(25.)\n",
    "\n",
    "sx = sigma_x*cos(theta)**2 + sigma_y*sin(theta)**2 + 2*tau_xy*sin(theta)*cos(theta)\n",
    "sy = sigma_x*cos(theta)**2 + sigma_y*sin(theta)**2 - 2*tau_xy*sin(theta)*cos(theta)\n",
    "txy = (sigma_y - sigma_x)*sin(theta)*cos(theta) + tau_xy*((cos(theta)**2)*(sin(theta)**2))\n",
    "\n"
   ]
  },
  {
   "cell_type": "code",
   "execution_count": 29,
   "metadata": {},
   "outputs": [
    {
     "name": "stdout",
     "output_type": "stream",
     "text": [
      "sigma_x  =                     12.00 ksi\n",
      "sigma_y  =                     -5.50 ksi\n",
      "tau_xy   =                      3.50 ksi\n",
      "sigma_x' =                     11.56 ksi\n",
      "sigma_y' =                      6.19 ksi\n",
      "tau_xy'  =                     -6.19 ksi\n"
     ]
    }
   ],
   "source": [
    "print(\"sigma_x  = {:25.2f} ksi\".format(sigma_x))\n",
    "print(\"sigma_y  = {:25.2f} ksi\".format(sigma_y))\n",
    "print(\"tau_xy   = {:25.2f} ksi\".format(tau_xy))\n",
    "\n",
    "print(\"sigma_x' = {:25.2f} ksi\".format(sx))\n",
    "print(\"sigma_y' = {:25.2f} ksi\".format(sy))\n",
    "print(\"tau_xy'  = {:25.2f} ksi\".format(txy))"
   ]
  },
  {
   "cell_type": "code",
   "execution_count": 13,
   "metadata": {},
   "outputs": [
    {
     "data": {
      "text/plain": [
       "3.141592653589793"
      ]
     },
     "execution_count": 13,
     "metadata": {},
     "output_type": "execute_result"
    }
   ],
   "source": []
  },
  {
   "cell_type": "markdown",
   "metadata": {},
   "source": [
    "### Exercise 2\n",
    "\n",
    "Convert the calculation from exercise 1 to a function"
   ]
  },
  {
   "cell_type": "code",
   "execution_count": 31,
   "metadata": {},
   "outputs": [],
   "source": [
    "def stressTransform(sigma_x, sigma_y, tau_xy, theta):\n",
    "    th_rad = radians(theta)\n",
    "    sx = sigma_x*cos(th_rad)**2 + sigma_y*sin(th_rad)**2 + 2*tau_xy*sin(th_rad)*cos(th_rad)\n",
    "    sy = sigma_x*cos(th_rad)**2 + sigma_y*sin(th_rad)**2 - 2*tau_xy*sin(th_rad)*cos(th_rad)\n",
    "    txy = (sigma_y - sigma_x)*sin(th_rad)*cos(th_rad) + tau_xy*((cos(th_rad)**2)*(sin(th_rad)**2))\n",
    "    \n",
    "    return (sx,sy,txy)"
   ]
  },
  {
   "cell_type": "markdown",
   "metadata": {},
   "source": [
    "Test your function for \n",
    "\n",
    "* $\\theta=0$ (what should the result look like?)\n",
    "* $\\theta=25^\\circ$\n",
    "* $\\theta=180^\\circ$"
   ]
  },
  {
   "cell_type": "code",
   "execution_count": 35,
   "metadata": {},
   "outputs": [
    {
     "data": {
      "text/plain": [
       "(12.0, 12.0, 0.0)"
      ]
     },
     "execution_count": 35,
     "metadata": {},
     "output_type": "execute_result"
    }
   ],
   "source": [
    "stressTransform(sigma_x,sigma_y,tau_xy, 0)"
   ]
  },
  {
   "cell_type": "code",
   "execution_count": 36,
   "metadata": {},
   "outputs": [
    {
     "data": {
      "text/plain": [
       "(11.555547135673642, 6.193236033840795, -6.1894177995617765)"
      ]
     },
     "execution_count": 36,
     "metadata": {},
     "output_type": "execute_result"
    }
   ],
   "source": [
    "stressTransform(sigma_x,sigma_y,tau_xy, 25)"
   ]
  },
  {
   "cell_type": "code",
   "execution_count": 37,
   "metadata": {},
   "outputs": [
    {
     "data": {
      "text/plain": [
       "(12.0, 12.0, 2.1431318985078682e-15)"
      ]
     },
     "execution_count": 37,
     "metadata": {},
     "output_type": "execute_result"
    }
   ],
   "source": [
    "stressTransform(sigma_x,sigma_y,tau_xy, 180)"
   ]
  },
  {
   "cell_type": "code",
   "execution_count": 40,
   "metadata": {},
   "outputs": [],
   "source": [
    "stress=stressTransform(sigma_x,sigma_y,tau_xy, 25)"
   ]
  },
  {
   "cell_type": "code",
   "execution_count": 47,
   "metadata": {},
   "outputs": [
    {
     "name": "stdout",
     "output_type": "stream",
     "text": [
      "(11.555547135673642, 6.193236033840795, -6.1894177995617765)\n"
     ]
    }
   ],
   "source": [
    "print(stress)"
   ]
  },
  {
   "cell_type": "code",
   "execution_count": 49,
   "metadata": {},
   "outputs": [
    {
     "data": {
      "text/plain": [
       "-6.1894177995617765"
      ]
     },
     "execution_count": 49,
     "metadata": {},
     "output_type": "execute_result"
    }
   ],
   "source": [
    "stress[2]"
   ]
  },
  {
   "cell_type": "code",
   "execution_count": 51,
   "metadata": {},
   "outputs": [],
   "source": [
    "(a,b,c)=stressTransform(sigma_x, sigma_y, tau_xy, 25)"
   ]
  },
  {
   "cell_type": "code",
   "execution_count": 52,
   "metadata": {},
   "outputs": [
    {
     "name": "stdout",
     "output_type": "stream",
     "text": [
      "11.555547135673642\n",
      "6.193236033840795\n",
      "-6.1894177995617765\n"
     ]
    }
   ],
   "source": [
    "print(a)\n",
    "print(b)\n",
    "print(c)"
   ]
  },
  {
   "cell_type": "code",
   "execution_count": null,
   "metadata": {},
   "outputs": [],
   "source": []
  },
  {
   "cell_type": "markdown",
   "metadata": {},
   "source": [
    "### Exercise 3\n",
    "\n",
    "Let's use this function to study stress transformation.  In order to do so,\n",
    "\n",
    "1. Create a list of 81 evenly spaced $\\theta$-values from $0^\\circ$ to $180^\\circ$.\n",
    "2. Compute the transformed stress for each of these values and collect the results in three lists: \n",
    "\n",
    "       sigmax_values = ...\n",
    "       sigmay_values = ...\n",
    "       tauxy_values = ...\n",
    "\n",
    "3. print a nice table with 4 columns: $\\theta$, $\\sigma_x'$, $\\sigma_y'$, $\\tau_{xy}'$"
   ]
  },
  {
   "cell_type": "code",
   "execution_count": 75,
   "metadata": {},
   "outputs": [],
   "source": [
    "sigmax_values = []\n",
    "sigmay_values = []\n",
    "tauxy_values = []\n",
    "\n",
    "# YOUR CODE HERE"
   ]
  },
  {
   "cell_type": "code",
   "execution_count": 95,
   "metadata": {},
   "outputs": [
    {
     "name": "stdout",
     "output_type": "stream",
     "text": [
      "            theta         sigma_x        sigma_y         tau_xy\n",
      "-----------------------------------------------------------------\n",
      "             0.0000        12.0000       12.0000          0.0000\n",
      "             2.2500        12.2476       11.6984         -0.6811\n",
      "             4.5000        12.4398       11.3448         -1.3474\n",
      "             6.7500        12.5753       10.9412         -1.9950\n",
      "             9.0000        12.6533       10.4902         -2.6203\n",
      "            11.2500        12.6733        9.9946         -3.2203\n",
      "            13.5000        12.6353        9.4573         -3.7921\n",
      "            15.7500        12.5393        8.8819         -4.3330\n",
      "            18.0000        12.3861        8.2717         -4.8408\n",
      "            20.2500        12.1766        7.6305         -5.3136\n",
      "            22.5000        11.9121        6.9623         -5.7497\n",
      "            24.7500        11.5941        6.2712         -6.1476\n",
      "            27.0000        11.2247        5.5616         -6.5062\n",
      "            29.2500        10.8061        4.8376         -6.8245\n",
      "            31.5000        10.3409        4.1039         -7.1017\n",
      "            33.7500         9.8321        3.3649         -7.3371\n",
      "            36.0000         9.2826        2.6252         -7.5303\n",
      "            38.2500         8.6959        1.8894         -7.6809\n",
      "            40.5000         8.0757        1.1619         -7.7887\n",
      "            42.7500         7.4257        0.4473         -7.8534\n",
      "            45.0000         6.7500       -0.2500         -7.8750\n",
      "            47.2500         6.0527       -0.9257         -7.8534\n",
      "            49.5000         5.3381       -1.5757         -7.7887\n",
      "            51.7500         4.6106       -2.1959         -7.6809\n",
      "            54.0000         3.8748       -2.7826         -7.5303\n",
      "            56.2500         3.1351       -3.3321         -7.3371\n",
      "            58.5000         2.3961       -3.8409         -7.1017\n",
      "            60.7500         1.6624       -4.3061         -6.8245\n",
      "            63.0000         0.9384       -4.7247         -6.5062\n",
      "            65.2500         0.2288       -5.0941         -6.1476\n",
      "            67.5000        -0.4623       -5.4121         -5.7497\n",
      "            69.7500        -1.1305       -5.6766         -5.3136\n",
      "            72.0000        -1.7717       -5.8861         -4.8408\n",
      "            74.2500        -2.3819       -6.0393         -4.3330\n",
      "            76.5000        -2.9573       -6.1353         -3.7921\n",
      "            78.7500        -3.4946       -6.1733         -3.2203\n",
      "            81.0000        -3.9902       -6.1533         -2.6203\n",
      "            83.2500        -4.4412       -6.0753         -1.9950\n",
      "            85.5000        -4.8448       -5.9398         -1.3474\n",
      "            87.7500        -5.1984       -5.7476         -0.6811\n",
      "            90.0000        -5.5000       -5.5000         -0.0000\n",
      "            92.2500        -5.7476       -5.1984          0.6919\n",
      "            94.5000        -5.9398       -4.8448          1.3902\n",
      "            96.7500        -6.0753       -4.4412          2.0903\n",
      "            99.0000        -6.1533       -3.9902          2.7875\n",
      "           101.2500        -6.1733       -3.4946          3.4766\n",
      "           103.5000        -6.1353       -2.9573          4.1528\n",
      "           105.7500        -6.0393       -2.3819          4.8107\n",
      "           108.0000        -5.8861       -1.7717          5.4454\n",
      "           110.2500        -5.6766       -1.1305          6.0517\n",
      "           112.5000        -5.4121       -0.4623          6.6247\n",
      "           114.7500        -5.0941        0.2288          7.1595\n",
      "           117.0000        -4.7247        0.9384          7.6516\n",
      "           119.2500        -4.3061        1.6624          8.0967\n",
      "           121.5000        -3.8409        2.3961          8.4910\n",
      "           123.7500        -3.3321        3.1351          8.8308\n",
      "           126.0000        -2.7826        3.8748          9.1132\n",
      "           128.2500        -2.1959        4.6106          9.3356\n",
      "           130.5000        -1.5757        5.3381          9.4959\n",
      "           132.7500        -0.9257        6.0527          9.5926\n",
      "           135.0000        -0.2500        6.7500          9.6250\n",
      "           137.2500         0.4473        7.4257          9.5926\n",
      "           139.5000         1.1619        8.0757          9.4959\n",
      "           141.7500         1.8894        8.6959          9.3356\n",
      "           144.0000         2.6252        9.2826          9.1132\n",
      "           146.2500         3.3649        9.8321          8.8308\n",
      "           148.5000         4.1039       10.3409          8.4910\n",
      "           150.7500         4.8376       10.8061          8.0967\n",
      "           153.0000         5.5616       11.2247          7.6516\n",
      "           155.2500         6.2712       11.5941          7.1595\n",
      "           157.5000         6.9623       11.9121          6.6247\n",
      "           159.7500         7.6305       12.1766          6.0517\n",
      "           162.0000         8.2717       12.3861          5.4454\n",
      "           164.2500         8.8819       12.5393          4.8107\n",
      "           166.5000         9.4573       12.6353          4.1528\n",
      "           168.7500         9.9946       12.6733          3.4766\n",
      "           171.0000        10.4902       12.6533          2.7875\n",
      "           173.2500        10.9412       12.5753          2.0903\n",
      "           175.5000        11.3448       12.4398          1.3902\n",
      "           177.7500        11.6984       12.2476          0.6919\n",
      "           180.0000        12.0000       12.0000          0.0000\n"
     ]
    }
   ],
   "source": [
    "theta = []\n",
    "\n",
    "print(\"            theta         sigma_x        sigma_y         tau_xy\")\n",
    "print(\"-----------------------------------------------------------------\")\n",
    "\n",
    "for i in range(81):\n",
    "    th = i*180/80;\n",
    "    theta.append(th) \n",
    "    (sx,sy,tau) = stressTransform(sigma_x,sigma_y,tau_xy, th)\n",
    "    sigmax_values.append(sx)\n",
    "    sigmay_values.append(sy)\n",
    "    tauxy_values.append(tau)\n",
    "    print(\"         {:10.4f}     {:10.4f}    {:10.4f}      {:10.4f}\".format(th,sx,sy,tau))"
   ]
  },
  {
   "cell_type": "code",
   "execution_count": 85,
   "metadata": {},
   "outputs": [
    {
     "name": "stdout",
     "output_type": "stream",
     "text": [
      "0.0\n",
      "2.25\n",
      "4.5\n",
      "6.75\n",
      "9.0\n",
      "11.25\n",
      "13.5\n",
      "15.75\n",
      "18.0\n",
      "20.25\n",
      "22.5\n",
      "24.75\n",
      "27.0\n",
      "29.25\n",
      "31.5\n",
      "33.75\n",
      "36.0\n",
      "38.25\n",
      "40.5\n",
      "42.75\n",
      "45.0\n",
      "47.25\n",
      "49.5\n",
      "51.75\n",
      "54.0\n",
      "56.25\n",
      "58.5\n",
      "60.75\n",
      "63.0\n",
      "65.25\n",
      "67.5\n",
      "69.75\n",
      "72.0\n",
      "74.25\n",
      "76.5\n",
      "78.75\n",
      "81.0\n",
      "83.25\n",
      "85.5\n",
      "87.75\n",
      "90.0\n",
      "92.25\n",
      "94.5\n",
      "96.75\n",
      "99.0\n",
      "101.25\n",
      "103.5\n",
      "105.75\n",
      "108.0\n",
      "110.25\n",
      "112.5\n",
      "114.75\n",
      "117.0\n",
      "119.25\n",
      "121.5\n",
      "123.75\n",
      "126.0\n",
      "128.25\n",
      "130.5\n",
      "132.75\n",
      "135.0\n",
      "137.25\n",
      "139.5\n",
      "141.75\n",
      "144.0\n",
      "146.25\n",
      "148.5\n",
      "150.75\n",
      "153.0\n",
      "155.25\n",
      "157.5\n",
      "159.75\n",
      "162.0\n",
      "164.25\n",
      "166.5\n",
      "168.75\n",
      "171.0\n",
      "173.25\n",
      "175.5\n",
      "177.75\n",
      "180.0\n"
     ]
    }
   ],
   "source": [
    "#prueba\n",
    "for i in range(81):\n",
    "    th = i*180/80;\n",
    "    print(th)\n",
    "    "
   ]
  },
  {
   "cell_type": "code",
   "execution_count": null,
   "metadata": {},
   "outputs": [],
   "source": []
  },
  {
   "cell_type": "markdown",
   "metadata": {},
   "source": [
    "### Exercise 4: Explore plotting in python\n",
    "\n",
    "For this, check out https://matplotlib.org/3.1.1/gallery/lines_bars_and_markers/simple_plot.html#sphx-glr-gallery-lines-bars-and-markers-simple-plot-py\n",
    "\n",
    "I copied the demo code below so you can modify it to plot $(\\sigma_{x}'/\\tau_{xy}')$ and  $(\\sigma_{y}'/-\\tau_{xy}')$ curves from the data collected in `sigmax_values`, `sigmay_values`, `tauxy_values`"
   ]
  },
  {
   "cell_type": "code",
   "execution_count": 120,
   "metadata": {},
   "outputs": [
    {
     "ename": "AttributeError",
     "evalue": "'numpy.ndarray' object has no attribute 'grid'",
     "output_type": "error",
     "traceback": [
      "\u001b[1;31m---------------------------------------------------------------------------\u001b[0m",
      "\u001b[1;31mAttributeError\u001b[0m                            Traceback (most recent call last)",
      "\u001b[1;32m<ipython-input-120-c9d124b1a462>\u001b[0m in \u001b[0;36m<module>\u001b[1;34m\u001b[0m\n\u001b[0;32m     12\u001b[0m \u001b[0maxs\u001b[0m\u001b[1;33m[\u001b[0m\u001b[1;36m0\u001b[0m\u001b[1;33m]\u001b[0m\u001b[1;33m.\u001b[0m\u001b[0mplot\u001b[0m\u001b[1;33m(\u001b[0m\u001b[0msigmax_values\u001b[0m\u001b[1;33m,\u001b[0m \u001b[0mtauxy_values\u001b[0m\u001b[1;33m)\u001b[0m\u001b[1;33m\u001b[0m\u001b[1;33m\u001b[0m\u001b[0m\n\u001b[0;32m     13\u001b[0m \u001b[0maxs\u001b[0m\u001b[1;33m[\u001b[0m\u001b[1;36m1\u001b[0m\u001b[1;33m]\u001b[0m\u001b[1;33m.\u001b[0m\u001b[0mplot\u001b[0m\u001b[1;33m(\u001b[0m\u001b[0msigmay_values\u001b[0m\u001b[1;33m,\u001b[0m \u001b[0mtauxy_values\u001b[0m\u001b[1;33m)\u001b[0m\u001b[1;33m\u001b[0m\u001b[1;33m\u001b[0m\u001b[0m\n\u001b[1;32m---> 14\u001b[1;33m \u001b[0max\u001b[0m\u001b[1;33m.\u001b[0m\u001b[0mgrid\u001b[0m\u001b[1;33m(\u001b[0m\u001b[1;33m)\u001b[0m\u001b[1;33m\u001b[0m\u001b[1;33m\u001b[0m\u001b[0m\n\u001b[0m\u001b[0;32m     15\u001b[0m \u001b[1;33m\u001b[0m\u001b[0m\n\u001b[0;32m     16\u001b[0m \u001b[1;31m# I comment writing the figure to file ... makes this quicker\u001b[0m\u001b[1;33m\u001b[0m\u001b[1;33m\u001b[0m\u001b[1;33m\u001b[0m\u001b[0m\n",
      "\u001b[1;31mAttributeError\u001b[0m: 'numpy.ndarray' object has no attribute 'grid'"
     ]
    },
    {
     "data": {
      "image/png": "[encoded data removed]",
      "text/plain": [
       "<Figure size 432x288 with 2 Axes>"
      ]
     },
     "metadata": {
      "needs_background": "light"
     },
     "output_type": "display_data"
    }
   ],
   "source": [
    "import matplotlib\n",
    "import matplotlib.pyplot as plt\n",
    "import numpy as np\n",
    "\n",
    "# Data for plotting\n",
    "sigmax_values\n",
    "sigmay_values\n",
    "tauxy_values\n",
    "\n",
    "fig, axs = plt.subplots(2)\n",
    "fig.subtitle=('About as simple as it gets, folks')\n",
    "axs[0].plot(sigmax_values, tauxy_values)\n",
    "axs[1].plot(sigmay_values, tauxy_values)\n",
    "ax.grid()\n",
    "\n",
    "# I comment writing the figure to file ... makes this quicker\n",
    "# fig.savefig(\"test.png\")\n",
    "plt.show()"
   ]
  },
  {
   "cell_type": "markdown",
   "metadata": {},
   "source": [
    "**Remark**: This was just to wet your appetite! We will talk much more about `numpy` and `matplotlib` next week."
   ]
  },
  {
   "cell_type": "markdown",
   "metadata": {},
   "source": [
    "## Exercise 5: List versus dictionary\n",
    "\n",
    "You could express the stress state as\n",
    "\n",
    "1. three independent variables - the way we did it thus far\n",
    "\n",
    "2. a list of three values: `stress = `$[\\sigma_x, \\sigma_y, \\tau_{xy}]$ and replace\n",
    "\n",
    "        sigma_x --> stress[0]\n",
    "        sigma_y --> stress[2]\n",
    "        tau_xy  --> stress[3]\n",
    "        \n",
    "3. a dictionary \n",
    "\n",
    "        stress = {'sigx': 12.0, 'sigy': -5.5, 'tau':3.50}\n",
    "        \n",
    "   and replace\n",
    "\n",
    "        sigma_x --> stress['sigx']\n",
    "        sigma_y --> stress['sigy']\n",
    "        tau_xy  --> stress['tau']\n",
    "\n",
    "**Discuss**:\n",
    "\n",
    "1. Pros and cons for coding the equations\n",
    "2. Pros and cons for coding the function(s)\n",
    "3. How woud code and function change when switching from 2D to 3D (6 components instead of 3 components)\n",
    "\n",
    "Feel free to implement an alternative form of stressTrannsform() that looks like this:"
   ]
  },
  {
   "cell_type": "code",
   "execution_count": null,
   "metadata": {},
   "outputs": [],
   "source": [
    "def stressTransform(stress, theta):\n",
    "    # YOUR CODE\n",
    "    # stress2 is a list or dictionary, just as stress is\n",
    "    \n",
    "    return stress2"
   ]
  },
  {
   "cell_type": "code",
   "execution_count": null,
   "metadata": {},
   "outputs": [],
   "source": []
  },
  {
   "cell_type": "markdown",
   "metadata": {},
   "source": [
    "## Homework questions\n",
    "\n",
    "We can all learn from your questions!"
   ]
  },
  {
   "cell_type": "code",
   "execution_count": null,
   "metadata": {},
   "outputs": [],
   "source": []
  }
 ],
 "metadata": {
  "kernelspec": {
   "display_name": "Python 3",
   "language": "python",
   "name": "python3"
  },
  "language_info": {
   "codemirror_mode": {
    "name": "ipython",
    "version": 3
   },
   "file_extension": ".py",
   "mimetype": "text/x-python",
   "name": "python",
   "nbconvert_exporter": "python",
   "pygments_lexer": "ipython3",
   "version": "3.7.8"
  }
 },
 "nbformat": 4,
 "nbformat_minor": 4
}
