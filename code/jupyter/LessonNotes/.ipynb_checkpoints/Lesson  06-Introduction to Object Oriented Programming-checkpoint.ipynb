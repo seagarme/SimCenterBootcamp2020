{
 "cells": [
  {
   "cell_type": "markdown",
   "metadata": {},
   "source": [
    "# A Python Quick Start Tutorial\n",
    "# Lesson \\#6 :  Introduction to Object Oriented Programming (OOP)\n",
    "## by Peter Mackenzie-Helnwein\n",
    "University of Washington, Seattle, WA\n",
    "\n",
    "pmackenz@uw.edu          \n",
    "https://www.ce.washington.edu/facultyfinder/peter-mackenzie-helnwein"
   ]
  },
  {
   "cell_type": "markdown",
   "metadata": {},
   "source": [
    "## Resources (reminder)\n",
    "   \n",
    "   1. Python Docs: https://docs.python.org/3/\n",
    "   \n",
    "   1. Python Tutorial (comprehensive): https://docs.python.org/3/tutorial/index.html\n",
    "   \n",
    "   1. <font color=red>**Classes**</font>: https://docs.python.org/3/tutorial/classes.html#a-first-look-at-classes\n",
    "   \n",
    "   1. Python Library Reference (the nitty-gritty details): https://docs.python.org/3/library/index.html\n",
    "   \n",
    "   1. Everything else: http://google.com\n",
    "   "
   ]
  },
  {
   "cell_type": "markdown",
   "metadata": {},
   "source": [
    "## Homework Questions & Discussion\n",
    "\n",
    "Reserving time for questions on Assignment \\#4\n",
    "\n",
    "..."
   ]
  },
  {
   "cell_type": "markdown",
   "metadata": {},
   "source": [
    "## Discussing questions from the self-study assignment\n",
    "\n",
    "This section is to discuss your questions\n"
   ]
  },
  {
   "cell_type": "markdown",
   "metadata": {},
   "source": [
    "### Exercise 1:  Thinking about Objects\n",
    "\n",
    "**Given**:\n",
    "\n",
    "A large project requires collaboration of multiple companies and administrative entities.  Each of these collaborators will have to manage their own company, do internal business, and business with (one or many) customers.  Each entity will require their own internal organization, hold protected and public information, conduct their business, and communicate and coordinate with customers.\n",
    "\n",
    "\n",
    "**Your Task**:\n",
    "\n",
    "Each team represents one company:\n",
    "* Breakout Room \\#1: ***'BIG BANK'***, a large financial institution.\n",
    "* Breakout Room \\#2: ***'PAVE A AWAY'***, a construction firm specializing in road construction.\n",
    "* Breakout Room \\#3: ***'WIDE SPAN'***, a company specializing in concrete bridge construction.\n",
    "* Breakout Room \\#4: ***'ENGI-NERDS'***, a large structural analysis firm.\n",
    "\n",
    "Discuss the following and enter the answers in the provided google sheet.\n",
    "1. What kind of **internal** information do you keep?\n",
    "1. What kind of **public per customer** information do you keep?\n",
    "1. What kind of **public for everybody** information do you keep?\n",
    "1. What kind of **internal/private** tasks does your company  do?\n",
    "1. What kind of **public** tasks does your company  do?\n",
    "\n",
    "- Shared work sheet: https://docs.google.com/spreadsheets/d/1L8sMNIizG5wpyNwhykgAmgTtmTOxON5unv1EAfasi6M/edit?usp=sharing\n",
    "\n"
   ]
  },
  {
   "cell_type": "markdown",
   "metadata": {},
   "source": [
    "### Exercise 2:  Thinking about access functions\n",
    "\n",
    "Now that you have established your company's setup, let's look what it takes to actually conduct some business.\n",
    "\n",
    "**Your Task**:\n",
    "\n",
    "Discuss the following and enter the answers in the provided google sheet.\n",
    "1. What kind of **requests** should your company receive?\n",
    "1. What kind of **services** will your company provide? (response to requests)\n",
    "1. What kind of **requests** should your company post toward other companies?\n",
    "\n",
    "- Shared work sheet: https://docs.google.com/spreadsheets/d/1L8sMNIizG5wpyNwhykgAmgTtmTOxON5unv1EAfasi6M/edit?usp=sharing\n"
   ]
  },
  {
   "cell_type": "markdown",
   "metadata": {},
   "source": [
    "### Exercise 3: Defining an object in Python\n",
    "\n",
    "In python, pretty much everything is an object - defined as a `class`.  Classes can go from very simple to very complex.  Let's start by creating an extensed data type that holds data in a form:\n",
    "\n",
    "| data      | variable     | type       |\n",
    "|:----------|:-------------|:-----------|\n",
    "| first name | `_.first_name` | string | \n",
    "| last name | `_.last_name` | string | \n",
    "| email | `_.email` | string | \n",
    "| phone number | `_.phone` | string |\n",
    "| year of birth | `_.YOB` | integer | \n",
    "\n",
    "`_` stands for any variable name representing an instance of the class.\n",
    "\n",
    "**Your tasks**:\n",
    "1. Use the provided template and add the missing variables.\n",
    "1. Why "
   ]
  },
  {
   "cell_type": "code",
   "execution_count": 15,
   "metadata": {},
   "outputs": [],
   "source": [
    "class MyDataType():\n",
    "    \n",
    "    def __init__(self):\n",
    "        self.first_name = 'Jane'\n",
    "        self.last_name  = 'Doe'\n",
    "        self.email = 'sss@dd.com'\n",
    "        self.phone = '45654651651'\n",
    "        self.YOB = 1885\n",
    "        \n",
    "    def __str__(self):\n",
    "        s = \"First name:         {}\\n\".format(self.first_name)\n",
    "        s += \"Last name:          {}\\n\".format(self.last_name)\n",
    "        s += \"Email:              {}\\n\".format(self.email)\n",
    "        s += \"Phone number:       {}\\n\".format(self.phone)\n",
    "        s += \"Year of birht:      {}\\n\".format(self.YOB)\n",
    "\n",
    "\n",
    "        \n",
    "        return s\n",
    "        # more here\n",
    "        "
   ]
  },
  {
   "cell_type": "markdown",
   "metadata": {},
   "source": [
    "**How to use this**:\n",
    "\n",
    "Executing the above cell did not produce any output.  Actually, it didn't run any code either but instead defined the class.  Things will be executed once we create some instances of that class.\n",
    "\n",
    "1. create two instances or `MyDataType` named `student1` and `student1`.\n",
    "1. modify the ***instance*** `student2` to hold your information.\n",
    "1. create a print statement that shows all the information stored for ***both*** instances"
   ]
  },
  {
   "cell_type": "code",
   "execution_count": 16,
   "metadata": {},
   "outputs": [
    {
     "ename": "NameError",
     "evalue": "name 'self' is not defined",
     "output_type": "error",
     "traceback": [
      "\u001b[1;31m---------------------------------------------------------------------------\u001b[0m",
      "\u001b[1;31mNameError\u001b[0m                                 Traceback (most recent call last)",
      "\u001b[1;32m<ipython-input-16-c5d04b69702e>\u001b[0m in \u001b[0;36m<module>\u001b[1;34m\u001b[0m\n\u001b[0;32m      2\u001b[0m \u001b[0mstudent2\u001b[0m \u001b[1;33m=\u001b[0m \u001b[0mMyDataType\u001b[0m\u001b[1;33m(\u001b[0m\u001b[1;33m)\u001b[0m\u001b[1;33m\u001b[0m\u001b[1;33m\u001b[0m\u001b[0m\n\u001b[0;32m      3\u001b[0m \u001b[1;33m\u001b[0m\u001b[0m\n\u001b[1;32m----> 4\u001b[1;33m \u001b[0mself\u001b[0m\u001b[1;33m.\u001b[0m\u001b[0mfirst_name\u001b[0m \u001b[1;33m=\u001b[0m \u001b[1;34m'Serg'\u001b[0m\u001b[1;33m\u001b[0m\u001b[1;33m\u001b[0m\u001b[0m\n\u001b[0m\u001b[0;32m      5\u001b[0m \u001b[0mself\u001b[0m\u001b[1;33m.\u001b[0m\u001b[0mlast_name\u001b[0m  \u001b[1;33m=\u001b[0m \u001b[1;34m'Garcia'\u001b[0m\u001b[1;33m\u001b[0m\u001b[1;33m\u001b[0m\u001b[0m\n\u001b[0;32m      6\u001b[0m \u001b[0mself\u001b[0m\u001b[1;33m.\u001b[0m\u001b[0memail\u001b[0m \u001b[1;33m=\u001b[0m \u001b[1;34m'sxxxs@dd.com'\u001b[0m\u001b[1;33m\u001b[0m\u001b[1;33m\u001b[0m\u001b[0m\n",
      "\u001b[1;31mNameError\u001b[0m: name 'self' is not defined"
     ]
    }
   ],
   "source": [
    "student1 = MyDataType()\n",
    "student2 = MyDataType()\n",
    "\n",
    "self.first_name = 'Serg'\n",
    "self.last_name  = 'Garcia'\n",
    "self.email = 'sxxxs@dd.com'\n",
    "self.phone = '7849846510'\n",
    "self.YOB = 1998"
   ]
  },
  {
   "cell_type": "code",
   "execution_count": 14,
   "metadata": {},
   "outputs": [
    {
     "ename": "UnboundLocalError",
     "evalue": "local variable 's' referenced before assignment",
     "output_type": "error",
     "traceback": [
      "\u001b[1;31m---------------------------------------------------------------------------\u001b[0m",
      "\u001b[1;31mUnboundLocalError\u001b[0m                         Traceback (most recent call last)",
      "\u001b[1;32m<ipython-input-14-27f95f419053>\u001b[0m in \u001b[0;36m<module>\u001b[1;34m\u001b[0m\n\u001b[1;32m----> 1\u001b[1;33m \u001b[0mprint\u001b[0m\u001b[1;33m(\u001b[0m\u001b[0mstudent1\u001b[0m\u001b[1;33m)\u001b[0m\u001b[1;33m\u001b[0m\u001b[1;33m\u001b[0m\u001b[0m\n\u001b[0m\u001b[0;32m      2\u001b[0m \u001b[0mprint\u001b[0m\u001b[1;33m(\u001b[0m\u001b[0mstudent2\u001b[0m\u001b[1;33m)\u001b[0m\u001b[1;33m\u001b[0m\u001b[1;33m\u001b[0m\u001b[0m\n",
      "\u001b[1;32m<ipython-input-12-11c0d50c33a5>\u001b[0m in \u001b[0;36m__str__\u001b[1;34m(self)\u001b[0m\n\u001b[0;32m      9\u001b[0m \u001b[1;33m\u001b[0m\u001b[0m\n\u001b[0;32m     10\u001b[0m     \u001b[1;32mdef\u001b[0m \u001b[0m__str__\u001b[0m\u001b[1;33m(\u001b[0m\u001b[0mself\u001b[0m\u001b[1;33m)\u001b[0m\u001b[1;33m:\u001b[0m\u001b[1;33m\u001b[0m\u001b[1;33m\u001b[0m\u001b[0m\n\u001b[1;32m---> 11\u001b[1;33m         \u001b[0ms\u001b[0m \u001b[1;33m+=\u001b[0m \u001b[1;34m\"First name:         {}\\n\"\u001b[0m\u001b[1;33m.\u001b[0m\u001b[0mformat\u001b[0m\u001b[1;33m(\u001b[0m\u001b[0mself\u001b[0m\u001b[1;33m.\u001b[0m\u001b[0mfirst_name\u001b[0m\u001b[1;33m)\u001b[0m\u001b[1;33m\u001b[0m\u001b[1;33m\u001b[0m\u001b[0m\n\u001b[0m\u001b[0;32m     12\u001b[0m         \u001b[0ms\u001b[0m \u001b[1;33m+=\u001b[0m \u001b[1;34m\"Last name:          {}\\n\"\u001b[0m\u001b[1;33m.\u001b[0m\u001b[0mformat\u001b[0m\u001b[1;33m(\u001b[0m\u001b[0mself\u001b[0m\u001b[1;33m.\u001b[0m\u001b[0mlast_name\u001b[0m\u001b[1;33m)\u001b[0m\u001b[1;33m\u001b[0m\u001b[1;33m\u001b[0m\u001b[0m\n\u001b[0;32m     13\u001b[0m         \u001b[0ms\u001b[0m \u001b[1;33m+=\u001b[0m \u001b[1;34m\"Email:              {}\\n\"\u001b[0m\u001b[1;33m.\u001b[0m\u001b[0mformat\u001b[0m\u001b[1;33m(\u001b[0m\u001b[0mself\u001b[0m\u001b[1;33m.\u001b[0m\u001b[0memail\u001b[0m\u001b[1;33m)\u001b[0m\u001b[1;33m\u001b[0m\u001b[1;33m\u001b[0m\u001b[0m\n",
      "\u001b[1;31mUnboundLocalError\u001b[0m: local variable 's' referenced before assignment"
     ]
    }
   ],
   "source": [
    "print(student1)\n",
    "print(student2)"
   ]
  },
  {
   "cell_type": "code",
   "execution_count": null,
   "metadata": {},
   "outputs": [],
   "source": [
    "print(student2.first_name)"
   ]
  }
 ],
 "metadata": {
  "kernelspec": {
   "display_name": "Python 3",
   "language": "python",
   "name": "python3"
  },
  "language_info": {
   "codemirror_mode": {
    "name": "ipython",
    "version": 3
   },
   "file_extension": ".py",
   "mimetype": "text/x-python",
   "name": "python",
   "nbconvert_exporter": "python",
   "pygments_lexer": "ipython3",
   "version": "3.7.8"
  }
 },
 "nbformat": 4,
 "nbformat_minor": 4
}
